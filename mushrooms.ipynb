{
  "cells": [
    {
      "cell_type": "markdown",
      "metadata": {
        "id": "view-in-github",
        "colab_type": "text"
      },
      "source": [
        "<a href=\"https://colab.research.google.com/github/vbharatipatil/Machine-Learning1/blob/main/mushrooms.ipynb\" target=\"_parent\"><img src=\"https://colab.research.google.com/assets/colab-badge.svg\" alt=\"Open In Colab\"/></a>"
      ]
    },
    {
      "cell_type": "markdown",
      "metadata": {
        "id": "46SFv3VCsG9y"
      },
      "source": [
        "# Mushrooms challenge\n",
        "\n",
        "A sample solution using `predict_proba` and the ROC curve."
      ]
    },
    {
      "cell_type": "markdown",
      "metadata": {
        "id": "9e94EC7LsG90"
      },
      "source": [
        "## 1.&nbsp;Import libraries"
      ]
    },
    {
      "cell_type": "code",
      "execution_count": null,
      "metadata": {
        "tags": [],
        "id": "T87sxTmAsG90"
      },
      "outputs": [],
      "source": [
        "import pandas as pd\n",
        "import matplotlib.pyplot as plt\n",
        "import seaborn as sns\n",
        "from sklearn.model_selection import train_test_split\n",
        "\n",
        "from sklearn.pipeline import Pipeline\n",
        "from sklearn.compose import ColumnTransformer\n",
        "from sklearn.preprocessing import OneHotEncoder\n",
        "\n",
        "from sklearn.metrics import ConfusionMatrixDisplay\n",
        "\n",
        "from sklearn.ensemble import RandomForestClassifier\n",
        "\n",
        "from sklearn.metrics import roc_curve\n",
        "from sklearn.metrics import roc_auc_score"
      ]
    },
    {
      "cell_type": "markdown",
      "metadata": {
        "id": "yQbdG68msG91"
      },
      "source": [
        "## 2.&nbsp; Read in, manipulate and split data"
      ]
    },
    {
      "cell_type": "code",
      "execution_count": null,
      "metadata": {
        "tags": [],
        "id": "SuvbkdqSsG92"
      },
      "outputs": [],
      "source": [
        "url = \"https://drive.google.com/file/d/1Op1vQftBKN1lrPVGGLJU-UOlv_dScTup/view?usp=sharing\"\n",
        "path = \"https://drive.google.com/uc?export=download&id=\"+url.split(\"/\")[-2]\n",
        "mush = pd.read_csv(path)"
      ]
    },
    {
      "cell_type": "code",
      "source": [
        "mush.head()"
      ],
      "metadata": {
        "colab": {
          "base_uri": "https://localhost:8080/",
          "height": 206
        },
        "id": "PWTYZUgmkM5o",
        "outputId": "43d1789f-3897-403b-eb8e-93dcb7e09dc6"
      },
      "execution_count": null,
      "outputs": [
        {
          "output_type": "execute_result",
          "data": {
            "text/plain": [
              "  cap.shape cap.color  bruises stalk.color.above.ring stalk.color.below.ring  \\\n",
              "0         k         e    False                      w                      w   \n",
              "1         f         e     True                      p                      w   \n",
              "2         b         w    False                      w                      w   \n",
              "3         k         g    False                      w                      w   \n",
              "4         f         n     True                      p                      g   \n",
              "\n",
              "  population    Id  poisonous  \n",
              "0          v  6573          1  \n",
              "1          y  4426          0  \n",
              "2          s  7018          0  \n",
              "3          n  5789          0  \n",
              "4          v  6187          0  "
            ],
            "text/html": [
              "\n",
              "  <div id=\"df-8f95adaf-cbfb-4f21-a336-c10a27b682bf\">\n",
              "    <div class=\"colab-df-container\">\n",
              "      <div>\n",
              "<style scoped>\n",
              "    .dataframe tbody tr th:only-of-type {\n",
              "        vertical-align: middle;\n",
              "    }\n",
              "\n",
              "    .dataframe tbody tr th {\n",
              "        vertical-align: top;\n",
              "    }\n",
              "\n",
              "    .dataframe thead th {\n",
              "        text-align: right;\n",
              "    }\n",
              "</style>\n",
              "<table border=\"1\" class=\"dataframe\">\n",
              "  <thead>\n",
              "    <tr style=\"text-align: right;\">\n",
              "      <th></th>\n",
              "      <th>cap.shape</th>\n",
              "      <th>cap.color</th>\n",
              "      <th>bruises</th>\n",
              "      <th>stalk.color.above.ring</th>\n",
              "      <th>stalk.color.below.ring</th>\n",
              "      <th>population</th>\n",
              "      <th>Id</th>\n",
              "      <th>poisonous</th>\n",
              "    </tr>\n",
              "  </thead>\n",
              "  <tbody>\n",
              "    <tr>\n",
              "      <th>0</th>\n",
              "      <td>k</td>\n",
              "      <td>e</td>\n",
              "      <td>False</td>\n",
              "      <td>w</td>\n",
              "      <td>w</td>\n",
              "      <td>v</td>\n",
              "      <td>6573</td>\n",
              "      <td>1</td>\n",
              "    </tr>\n",
              "    <tr>\n",
              "      <th>1</th>\n",
              "      <td>f</td>\n",
              "      <td>e</td>\n",
              "      <td>True</td>\n",
              "      <td>p</td>\n",
              "      <td>w</td>\n",
              "      <td>y</td>\n",
              "      <td>4426</td>\n",
              "      <td>0</td>\n",
              "    </tr>\n",
              "    <tr>\n",
              "      <th>2</th>\n",
              "      <td>b</td>\n",
              "      <td>w</td>\n",
              "      <td>False</td>\n",
              "      <td>w</td>\n",
              "      <td>w</td>\n",
              "      <td>s</td>\n",
              "      <td>7018</td>\n",
              "      <td>0</td>\n",
              "    </tr>\n",
              "    <tr>\n",
              "      <th>3</th>\n",
              "      <td>k</td>\n",
              "      <td>g</td>\n",
              "      <td>False</td>\n",
              "      <td>w</td>\n",
              "      <td>w</td>\n",
              "      <td>n</td>\n",
              "      <td>5789</td>\n",
              "      <td>0</td>\n",
              "    </tr>\n",
              "    <tr>\n",
              "      <th>4</th>\n",
              "      <td>f</td>\n",
              "      <td>n</td>\n",
              "      <td>True</td>\n",
              "      <td>p</td>\n",
              "      <td>g</td>\n",
              "      <td>v</td>\n",
              "      <td>6187</td>\n",
              "      <td>0</td>\n",
              "    </tr>\n",
              "  </tbody>\n",
              "</table>\n",
              "</div>\n",
              "      <button class=\"colab-df-convert\" onclick=\"convertToInteractive('df-8f95adaf-cbfb-4f21-a336-c10a27b682bf')\"\n",
              "              title=\"Convert this dataframe to an interactive table.\"\n",
              "              style=\"display:none;\">\n",
              "        \n",
              "  <svg xmlns=\"http://www.w3.org/2000/svg\" height=\"24px\"viewBox=\"0 0 24 24\"\n",
              "       width=\"24px\">\n",
              "    <path d=\"M0 0h24v24H0V0z\" fill=\"none\"/>\n",
              "    <path d=\"M18.56 5.44l.94 2.06.94-2.06 2.06-.94-2.06-.94-.94-2.06-.94 2.06-2.06.94zm-11 1L8.5 8.5l.94-2.06 2.06-.94-2.06-.94L8.5 2.5l-.94 2.06-2.06.94zm10 10l.94 2.06.94-2.06 2.06-.94-2.06-.94-.94-2.06-.94 2.06-2.06.94z\"/><path d=\"M17.41 7.96l-1.37-1.37c-.4-.4-.92-.59-1.43-.59-.52 0-1.04.2-1.43.59L10.3 9.45l-7.72 7.72c-.78.78-.78 2.05 0 2.83L4 21.41c.39.39.9.59 1.41.59.51 0 1.02-.2 1.41-.59l7.78-7.78 2.81-2.81c.8-.78.8-2.07 0-2.86zM5.41 20L4 18.59l7.72-7.72 1.47 1.35L5.41 20z\"/>\n",
              "  </svg>\n",
              "      </button>\n",
              "      \n",
              "  <style>\n",
              "    .colab-df-container {\n",
              "      display:flex;\n",
              "      flex-wrap:wrap;\n",
              "      gap: 12px;\n",
              "    }\n",
              "\n",
              "    .colab-df-convert {\n",
              "      background-color: #E8F0FE;\n",
              "      border: none;\n",
              "      border-radius: 50%;\n",
              "      cursor: pointer;\n",
              "      display: none;\n",
              "      fill: #1967D2;\n",
              "      height: 32px;\n",
              "      padding: 0 0 0 0;\n",
              "      width: 32px;\n",
              "    }\n",
              "\n",
              "    .colab-df-convert:hover {\n",
              "      background-color: #E2EBFA;\n",
              "      box-shadow: 0px 1px 2px rgba(60, 64, 67, 0.3), 0px 1px 3px 1px rgba(60, 64, 67, 0.15);\n",
              "      fill: #174EA6;\n",
              "    }\n",
              "\n",
              "    [theme=dark] .colab-df-convert {\n",
              "      background-color: #3B4455;\n",
              "      fill: #D2E3FC;\n",
              "    }\n",
              "\n",
              "    [theme=dark] .colab-df-convert:hover {\n",
              "      background-color: #434B5C;\n",
              "      box-shadow: 0px 1px 3px 1px rgba(0, 0, 0, 0.15);\n",
              "      filter: drop-shadow(0px 1px 2px rgba(0, 0, 0, 0.3));\n",
              "      fill: #FFFFFF;\n",
              "    }\n",
              "  </style>\n",
              "\n",
              "      <script>\n",
              "        const buttonEl =\n",
              "          document.querySelector('#df-8f95adaf-cbfb-4f21-a336-c10a27b682bf button.colab-df-convert');\n",
              "        buttonEl.style.display =\n",
              "          google.colab.kernel.accessAllowed ? 'block' : 'none';\n",
              "\n",
              "        async function convertToInteractive(key) {\n",
              "          const element = document.querySelector('#df-8f95adaf-cbfb-4f21-a336-c10a27b682bf');\n",
              "          const dataTable =\n",
              "            await google.colab.kernel.invokeFunction('convertToInteractive',\n",
              "                                                     [key], {});\n",
              "          if (!dataTable) return;\n",
              "\n",
              "          const docLinkHtml = 'Like what you see? Visit the ' +\n",
              "            '<a target=\"_blank\" href=https://colab.research.google.com/notebooks/data_table.ipynb>data table notebook</a>'\n",
              "            + ' to learn more about interactive tables.';\n",
              "          element.innerHTML = '';\n",
              "          dataTable['output_type'] = 'display_data';\n",
              "          await google.colab.output.renderOutput(dataTable, element);\n",
              "          const docLink = document.createElement('div');\n",
              "          docLink.innerHTML = docLinkHtml;\n",
              "          element.appendChild(docLink);\n",
              "        }\n",
              "      </script>\n",
              "    </div>\n",
              "  </div>\n",
              "  "
            ]
          },
          "metadata": {},
          "execution_count": 3
        }
      ]
    },
    {
      "cell_type": "code",
      "execution_count": null,
      "metadata": {
        "tags": [],
        "colab": {
          "base_uri": "https://localhost:8080/",
          "height": 206
        },
        "id": "NERJiVLXsG93",
        "outputId": "eba8e654-d5be-4e5a-8b91-76d3156e3a7a"
      },
      "outputs": [
        {
          "output_type": "execute_result",
          "data": {
            "text/plain": [
              "     cap.shape cap.color  bruises stalk.color.above.ring  \\\n",
              "1725         f         g     True                      w   \n",
              "1260         f         g     True                      g   \n",
              "4551         x         y    False                      p   \n",
              "2442         f         c    False                      w   \n",
              "6109         x         g     True                      g   \n",
              "\n",
              "     stalk.color.below.ring population  \n",
              "1725                      p          y  \n",
              "1260                      g          v  \n",
              "4551                      b          y  \n",
              "2442                      n          v  \n",
              "6109                      w          v  "
            ],
            "text/html": [
              "\n",
              "  <div id=\"df-179f381b-2104-4f84-a4cf-57f06a009dff\">\n",
              "    <div class=\"colab-df-container\">\n",
              "      <div>\n",
              "<style scoped>\n",
              "    .dataframe tbody tr th:only-of-type {\n",
              "        vertical-align: middle;\n",
              "    }\n",
              "\n",
              "    .dataframe tbody tr th {\n",
              "        vertical-align: top;\n",
              "    }\n",
              "\n",
              "    .dataframe thead th {\n",
              "        text-align: right;\n",
              "    }\n",
              "</style>\n",
              "<table border=\"1\" class=\"dataframe\">\n",
              "  <thead>\n",
              "    <tr style=\"text-align: right;\">\n",
              "      <th></th>\n",
              "      <th>cap.shape</th>\n",
              "      <th>cap.color</th>\n",
              "      <th>bruises</th>\n",
              "      <th>stalk.color.above.ring</th>\n",
              "      <th>stalk.color.below.ring</th>\n",
              "      <th>population</th>\n",
              "    </tr>\n",
              "  </thead>\n",
              "  <tbody>\n",
              "    <tr>\n",
              "      <th>1725</th>\n",
              "      <td>f</td>\n",
              "      <td>g</td>\n",
              "      <td>True</td>\n",
              "      <td>w</td>\n",
              "      <td>p</td>\n",
              "      <td>y</td>\n",
              "    </tr>\n",
              "    <tr>\n",
              "      <th>1260</th>\n",
              "      <td>f</td>\n",
              "      <td>g</td>\n",
              "      <td>True</td>\n",
              "      <td>g</td>\n",
              "      <td>g</td>\n",
              "      <td>v</td>\n",
              "    </tr>\n",
              "    <tr>\n",
              "      <th>4551</th>\n",
              "      <td>x</td>\n",
              "      <td>y</td>\n",
              "      <td>False</td>\n",
              "      <td>p</td>\n",
              "      <td>b</td>\n",
              "      <td>y</td>\n",
              "    </tr>\n",
              "    <tr>\n",
              "      <th>2442</th>\n",
              "      <td>f</td>\n",
              "      <td>c</td>\n",
              "      <td>False</td>\n",
              "      <td>w</td>\n",
              "      <td>n</td>\n",
              "      <td>v</td>\n",
              "    </tr>\n",
              "    <tr>\n",
              "      <th>6109</th>\n",
              "      <td>x</td>\n",
              "      <td>g</td>\n",
              "      <td>True</td>\n",
              "      <td>g</td>\n",
              "      <td>w</td>\n",
              "      <td>v</td>\n",
              "    </tr>\n",
              "  </tbody>\n",
              "</table>\n",
              "</div>\n",
              "      <button class=\"colab-df-convert\" onclick=\"convertToInteractive('df-179f381b-2104-4f84-a4cf-57f06a009dff')\"\n",
              "              title=\"Convert this dataframe to an interactive table.\"\n",
              "              style=\"display:none;\">\n",
              "        \n",
              "  <svg xmlns=\"http://www.w3.org/2000/svg\" height=\"24px\"viewBox=\"0 0 24 24\"\n",
              "       width=\"24px\">\n",
              "    <path d=\"M0 0h24v24H0V0z\" fill=\"none\"/>\n",
              "    <path d=\"M18.56 5.44l.94 2.06.94-2.06 2.06-.94-2.06-.94-.94-2.06-.94 2.06-2.06.94zm-11 1L8.5 8.5l.94-2.06 2.06-.94-2.06-.94L8.5 2.5l-.94 2.06-2.06.94zm10 10l.94 2.06.94-2.06 2.06-.94-2.06-.94-.94-2.06-.94 2.06-2.06.94z\"/><path d=\"M17.41 7.96l-1.37-1.37c-.4-.4-.92-.59-1.43-.59-.52 0-1.04.2-1.43.59L10.3 9.45l-7.72 7.72c-.78.78-.78 2.05 0 2.83L4 21.41c.39.39.9.59 1.41.59.51 0 1.02-.2 1.41-.59l7.78-7.78 2.81-2.81c.8-.78.8-2.07 0-2.86zM5.41 20L4 18.59l7.72-7.72 1.47 1.35L5.41 20z\"/>\n",
              "  </svg>\n",
              "      </button>\n",
              "      \n",
              "  <style>\n",
              "    .colab-df-container {\n",
              "      display:flex;\n",
              "      flex-wrap:wrap;\n",
              "      gap: 12px;\n",
              "    }\n",
              "\n",
              "    .colab-df-convert {\n",
              "      background-color: #E8F0FE;\n",
              "      border: none;\n",
              "      border-radius: 50%;\n",
              "      cursor: pointer;\n",
              "      display: none;\n",
              "      fill: #1967D2;\n",
              "      height: 32px;\n",
              "      padding: 0 0 0 0;\n",
              "      width: 32px;\n",
              "    }\n",
              "\n",
              "    .colab-df-convert:hover {\n",
              "      background-color: #E2EBFA;\n",
              "      box-shadow: 0px 1px 2px rgba(60, 64, 67, 0.3), 0px 1px 3px 1px rgba(60, 64, 67, 0.15);\n",
              "      fill: #174EA6;\n",
              "    }\n",
              "\n",
              "    [theme=dark] .colab-df-convert {\n",
              "      background-color: #3B4455;\n",
              "      fill: #D2E3FC;\n",
              "    }\n",
              "\n",
              "    [theme=dark] .colab-df-convert:hover {\n",
              "      background-color: #434B5C;\n",
              "      box-shadow: 0px 1px 3px 1px rgba(0, 0, 0, 0.15);\n",
              "      filter: drop-shadow(0px 1px 2px rgba(0, 0, 0, 0.3));\n",
              "      fill: #FFFFFF;\n",
              "    }\n",
              "  </style>\n",
              "\n",
              "      <script>\n",
              "        const buttonEl =\n",
              "          document.querySelector('#df-179f381b-2104-4f84-a4cf-57f06a009dff button.colab-df-convert');\n",
              "        buttonEl.style.display =\n",
              "          google.colab.kernel.accessAllowed ? 'block' : 'none';\n",
              "\n",
              "        async function convertToInteractive(key) {\n",
              "          const element = document.querySelector('#df-179f381b-2104-4f84-a4cf-57f06a009dff');\n",
              "          const dataTable =\n",
              "            await google.colab.kernel.invokeFunction('convertToInteractive',\n",
              "                                                     [key], {});\n",
              "          if (!dataTable) return;\n",
              "\n",
              "          const docLinkHtml = 'Like what you see? Visit the ' +\n",
              "            '<a target=\"_blank\" href=https://colab.research.google.com/notebooks/data_table.ipynb>data table notebook</a>'\n",
              "            + ' to learn more about interactive tables.';\n",
              "          element.innerHTML = '';\n",
              "          dataTable['output_type'] = 'display_data';\n",
              "          await google.colab.output.renderOutput(dataTable, element);\n",
              "          const docLink = document.createElement('div');\n",
              "          docLink.innerHTML = docLinkHtml;\n",
              "          element.appendChild(docLink);\n",
              "        }\n",
              "      </script>\n",
              "    </div>\n",
              "  </div>\n",
              "  "
            ]
          },
          "metadata": {},
          "execution_count": 4
        }
      ],
      "source": [
        "X = mush.drop(columns=[\"Id\"]).copy()\n",
        "y = X.pop(\"poisonous\")\n",
        "\n",
        "X_train, X_test, y_train, y_test = train_test_split(X, y, train_size=.8, random_state=8)\n",
        "\n",
        "X_train.head()"
      ]
    },
    {
      "cell_type": "markdown",
      "metadata": {
        "id": "mDLk30SMsG94"
      },
      "source": [
        "## 3.&nbsp; Create pipeline"
      ]
    },
    {
      "cell_type": "markdown",
      "metadata": {
        "id": "FC10uuIPsG94"
      },
      "source": [
        "We chose the `RandomForestClassifier()` as our model but you can try any other classifier."
      ]
    },
    {
      "cell_type": "code",
      "source": [
        "pipe = Pipeline(steps=[\n",
        "    (\"one-hot\", OneHotEncoder(drop=\"first\", handle_unknown=\"ignore\")),\n",
        "    (\"model\", RandomForestClassifier(n_estimators=500, random_state=123))\n",
        "])"
      ],
      "metadata": {
        "id": "Oqdods6NSpQr"
      },
      "execution_count": null,
      "outputs": []
    },
    {
      "cell_type": "code",
      "source": [
        "fitted_pipe = pipe.fit(X_train, y_train)"
      ],
      "metadata": {
        "id": "p8Ck5ZIRS5MM"
      },
      "execution_count": null,
      "outputs": []
    },
    {
      "cell_type": "markdown",
      "source": [
        "Let's plot the confusion matrix to see how well our model performed."
      ],
      "metadata": {
        "id": "R0s8DIRXs7Pu"
      }
    },
    {
      "cell_type": "code",
      "source": [
        "ConfusionMatrixDisplay.from_estimator(fitted_pipe, X_train, y_train, display_labels=[\"Not poisonous\", \"Poisonous\"]);"
      ],
      "metadata": {
        "colab": {
          "base_uri": "https://localhost:8080/",
          "height": 452
        },
        "id": "lCbR_ZluTKbU",
        "outputId": "f1f98e4f-5631-4fc4-b078-46e0df972c3b"
      },
      "execution_count": null,
      "outputs": [
        {
          "output_type": "display_data",
          "data": {
            "text/plain": [
              "<Figure size 640x480 with 2 Axes>"
            ],
            "image/png": "[encoded data removed]"
          },
          "metadata": {}
        }
      ]
    },
    {
      "cell_type": "markdown",
      "metadata": {
        "id": "e3LL-F8MsG96"
      },
      "source": [
        "The confusion matrix shows that our model predicted 44 False Negatives. This means that 44 mushrooms will be predicted as non-poisonous (= Negatives) while in fact, they truly are poisonous (= False Negatives).\n",
        "\n",
        "Our task is to avoid these situations at all costs, so we need to find a way to make that left-bottom corner of the confusion matrix to be equal to 0."
      ]
    },
    {
      "cell_type": "markdown",
      "source": [
        "> Note: Judging from the values in the confusion matrix, the overall accuracy seems to be pretty high. As you can see from this example though, there are cases in which the accuracy doesn't seem to be the right metric to tell whether a model performs well (enough). This is why we will introduce further concepts to evaluate and tune the model below."
      ],
      "metadata": {
        "id": "P3Cn9FcwvGPg"
      }
    },
    {
      "cell_type": "markdown",
      "source": [
        "## 4.&nbsp; Introduction to thresholds"
      ],
      "metadata": {
        "id": "28AEYnai4kuT"
      }
    },
    {
      "cell_type": "markdown",
      "metadata": {
        "id": "sl2K3NM4sG97"
      },
      "source": [
        "In order to improve our model to prevent casualties, we will now try to change the threshold with which we are predicting our classes."
      ]
    },
    {
      "cell_type": "markdown",
      "metadata": {
        "id": "nciPCTwvsG97"
      },
      "source": [
        "**What is a threshold?**\n",
        "\n",
        "It is a value above or below which a model predicts a different class.  \n",
        "The default threshold is `0.5`, which means that if a sample has a `0.51` probability to be of class 0 and a `0.49` probability to be of class 1, the model will predict that sample to be of class 0.\n",
        "\n",
        "In our case, this can be very dangerous because a `0.49` probability that a mushroom is poisonous is still a high chance! Unfortunately, our model with the default threshold will predict it as non-poisonous.\n",
        "\n",
        "If you're intending to eat a mushroom, would you prefer that it is labelled as poisonous even if it's non-poisonous? Or would you prefer that the mushroom is labelled non-poisonous even though it's poisonous?\n",
        "\n",
        "Uneaten non-poisonous mushrooms are a pity, but eaten poisonous mushrooms are a deathly risk. Therefore, we will want to change the threshold from the default `0.5` such that:\n",
        "- none of the poisonous mushrooms will be labelled non-poisonous and nobody will die.\n",
        "- a lot more of the non-poisonous mushrooms might be labelled as poisonous by consequence, and they will be left uneaten."
      ]
    },
    {
      "cell_type": "markdown",
      "metadata": {
        "id": "x0HDR10NsG96"
      },
      "source": [
        "## 5.&nbsp; Get probabilities"
      ]
    },
    {
      "cell_type": "markdown",
      "metadata": {
        "id": "RmuzUg8XsG97"
      },
      "source": [
        "The **`predict_proba()`** method will help us with our task.\n",
        " \n",
        "\n",
        "`predict_proba()` is a method that many Scikit-Learn classification models have, including `LogisticRegression`, `KNeighborsClassifier`, `DecisionTreeClassifier` or the one we'll use in our example, `RandomForestClassifier`.\n",
        "\n",
        "You can check the available methods for any Scikit-Learn transformer/model by looking at its documentation. As the [documentation for the Random Forest Classifier method](https://scikit-learn.org/stable/modules/generated/sklearn.ensemble.RandomForestClassifier.html#sklearn.ensemble.RandomForestClassifier.predict_proba) outlines, after fitting one of the mentioned models to the data,  `predict_proba()` will return the probabilities of each sample to belong to each possible class.\n",
        "\n",
        "In our case, for each mushroom, `predict_proba()` will tell us both the probability of that mushroom being non-poisonous (class 0) and poisonous (class 1). Let's have a look:"
      ]
    },
    {
      "cell_type": "code",
      "execution_count": null,
      "metadata": {
        "tags": [],
        "colab": {
          "base_uri": "https://localhost:8080/",
          "height": 424
        },
        "id": "MvJ8jN33sG97",
        "outputId": "75b0646d-0eb7-470b-ab71-8a15a78b0cb4"
      },
      "outputs": [
        {
          "output_type": "execute_result",
          "data": {
            "text/plain": [
              "        0    1\n",
              "0     1.0  0.0\n",
              "1     1.0  0.0\n",
              "2     0.0  1.0\n",
              "3     1.0  0.0\n",
              "4     1.0  0.0\n",
              "...   ...  ...\n",
              "5194  0.0  1.0\n",
              "5195  0.0  1.0\n",
              "5196  1.0  0.0\n",
              "5197  1.0  0.0\n",
              "5198  0.0  1.0\n",
              "\n",
              "[5199 rows x 2 columns]"
            ],
            "text/html": [
              "\n",
              "  <div id=\"df-1cdfb3db-b9fa-49f7-9b1d-99378d98f995\">\n",
              "    <div class=\"colab-df-container\">\n",
              "      <div>\n",
              "<style scoped>\n",
              "    .dataframe tbody tr th:only-of-type {\n",
              "        vertical-align: middle;\n",
              "    }\n",
              "\n",
              "    .dataframe tbody tr th {\n",
              "        vertical-align: top;\n",
              "    }\n",
              "\n",
              "    .dataframe thead th {\n",
              "        text-align: right;\n",
              "    }\n",
              "</style>\n",
              "<table border=\"1\" class=\"dataframe\">\n",
              "  <thead>\n",
              "    <tr style=\"text-align: right;\">\n",
              "      <th></th>\n",
              "      <th>0</th>\n",
              "      <th>1</th>\n",
              "    </tr>\n",
              "  </thead>\n",
              "  <tbody>\n",
              "    <tr>\n",
              "      <th>0</th>\n",
              "      <td>1.0</td>\n",
              "      <td>0.0</td>\n",
              "    </tr>\n",
              "    <tr>\n",
              "      <th>1</th>\n",
              "      <td>1.0</td>\n",
              "      <td>0.0</td>\n",
              "    </tr>\n",
              "    <tr>\n",
              "      <th>2</th>\n",
              "      <td>0.0</td>\n",
              "      <td>1.0</td>\n",
              "    </tr>\n",
              "    <tr>\n",
              "      <th>3</th>\n",
              "      <td>1.0</td>\n",
              "      <td>0.0</td>\n",
              "    </tr>\n",
              "    <tr>\n",
              "      <th>4</th>\n",
              "      <td>1.0</td>\n",
              "      <td>0.0</td>\n",
              "    </tr>\n",
              "    <tr>\n",
              "      <th>...</th>\n",
              "      <td>...</td>\n",
              "      <td>...</td>\n",
              "    </tr>\n",
              "    <tr>\n",
              "      <th>5194</th>\n",
              "      <td>0.0</td>\n",
              "      <td>1.0</td>\n",
              "    </tr>\n",
              "    <tr>\n",
              "      <th>5195</th>\n",
              "      <td>0.0</td>\n",
              "      <td>1.0</td>\n",
              "    </tr>\n",
              "    <tr>\n",
              "      <th>5196</th>\n",
              "      <td>1.0</td>\n",
              "      <td>0.0</td>\n",
              "    </tr>\n",
              "    <tr>\n",
              "      <th>5197</th>\n",
              "      <td>1.0</td>\n",
              "      <td>0.0</td>\n",
              "    </tr>\n",
              "    <tr>\n",
              "      <th>5198</th>\n",
              "      <td>0.0</td>\n",
              "      <td>1.0</td>\n",
              "    </tr>\n",
              "  </tbody>\n",
              "</table>\n",
              "<p>5199 rows × 2 columns</p>\n",
              "</div>\n",
              "      <button class=\"colab-df-convert\" onclick=\"convertToInteractive('df-1cdfb3db-b9fa-49f7-9b1d-99378d98f995')\"\n",
              "              title=\"Convert this dataframe to an interactive table.\"\n",
              "              style=\"display:none;\">\n",
              "        \n",
              "  <svg xmlns=\"http://www.w3.org/2000/svg\" height=\"24px\"viewBox=\"0 0 24 24\"\n",
              "       width=\"24px\">\n",
              "    <path d=\"M0 0h24v24H0V0z\" fill=\"none\"/>\n",
              "    <path d=\"M18.56 5.44l.94 2.06.94-2.06 2.06-.94-2.06-.94-.94-2.06-.94 2.06-2.06.94zm-11 1L8.5 8.5l.94-2.06 2.06-.94-2.06-.94L8.5 2.5l-.94 2.06-2.06.94zm10 10l.94 2.06.94-2.06 2.06-.94-2.06-.94-.94-2.06-.94 2.06-2.06.94z\"/><path d=\"M17.41 7.96l-1.37-1.37c-.4-.4-.92-.59-1.43-.59-.52 0-1.04.2-1.43.59L10.3 9.45l-7.72 7.72c-.78.78-.78 2.05 0 2.83L4 21.41c.39.39.9.59 1.41.59.51 0 1.02-.2 1.41-.59l7.78-7.78 2.81-2.81c.8-.78.8-2.07 0-2.86zM5.41 20L4 18.59l7.72-7.72 1.47 1.35L5.41 20z\"/>\n",
              "  </svg>\n",
              "      </button>\n",
              "      \n",
              "  <style>\n",
              "    .colab-df-container {\n",
              "      display:flex;\n",
              "      flex-wrap:wrap;\n",
              "      gap: 12px;\n",
              "    }\n",
              "\n",
              "    .colab-df-convert {\n",
              "      background-color: #E8F0FE;\n",
              "      border: none;\n",
              "      border-radius: 50%;\n",
              "      cursor: pointer;\n",
              "      display: none;\n",
              "      fill: #1967D2;\n",
              "      height: 32px;\n",
              "      padding: 0 0 0 0;\n",
              "      width: 32px;\n",
              "    }\n",
              "\n",
              "    .colab-df-convert:hover {\n",
              "      background-color: #E2EBFA;\n",
              "      box-shadow: 0px 1px 2px rgba(60, 64, 67, 0.3), 0px 1px 3px 1px rgba(60, 64, 67, 0.15);\n",
              "      fill: #174EA6;\n",
              "    }\n",
              "\n",
              "    [theme=dark] .colab-df-convert {\n",
              "      background-color: #3B4455;\n",
              "      fill: #D2E3FC;\n",
              "    }\n",
              "\n",
              "    [theme=dark] .colab-df-convert:hover {\n",
              "      background-color: #434B5C;\n",
              "      box-shadow: 0px 1px 3px 1px rgba(0, 0, 0, 0.15);\n",
              "      filter: drop-shadow(0px 1px 2px rgba(0, 0, 0, 0.3));\n",
              "      fill: #FFFFFF;\n",
              "    }\n",
              "  </style>\n",
              "\n",
              "      <script>\n",
              "        const buttonEl =\n",
              "          document.querySelector('#df-1cdfb3db-b9fa-49f7-9b1d-99378d98f995 button.colab-df-convert');\n",
              "        buttonEl.style.display =\n",
              "          google.colab.kernel.accessAllowed ? 'block' : 'none';\n",
              "\n",
              "        async function convertToInteractive(key) {\n",
              "          const element = document.querySelector('#df-1cdfb3db-b9fa-49f7-9b1d-99378d98f995');\n",
              "          const dataTable =\n",
              "            await google.colab.kernel.invokeFunction('convertToInteractive',\n",
              "                                                     [key], {});\n",
              "          if (!dataTable) return;\n",
              "\n",
              "          const docLinkHtml = 'Like what you see? Visit the ' +\n",
              "            '<a target=\"_blank\" href=https://colab.research.google.com/notebooks/data_table.ipynb>data table notebook</a>'\n",
              "            + ' to learn more about interactive tables.';\n",
              "          element.innerHTML = '';\n",
              "          dataTable['output_type'] = 'display_data';\n",
              "          await google.colab.output.renderOutput(dataTable, element);\n",
              "          const docLink = document.createElement('div');\n",
              "          docLink.innerHTML = docLinkHtml;\n",
              "          element.appendChild(docLink);\n",
              "        }\n",
              "      </script>\n",
              "    </div>\n",
              "  </div>\n",
              "  "
            ]
          },
          "metadata": {},
          "execution_count": 8
        }
      ],
      "source": [
        "probabilities = fitted_pipe.predict_proba(X_train)\n",
        "probabilities_df = pd.DataFrame(probabilities)\n",
        "probabilities_df"
      ]
    },
    {
      "cell_type": "markdown",
      "metadata": {
        "id": "_CR9j0ewsG97"
      },
      "source": [
        "The `probabilities` array has a shape of (5199,2):\n",
        "* 5199 is the number of mushroooms in our X_train dataset  \n",
        "* 2 is the number of classes, in our case 0 and 1 (non-poisonous and poisonous)  \n",
        "\n",
        "The first column holds the values of probabilites for a mushroom being of class 0.  \n",
        "The second column holds the values of probabilites for a mushroom being of class 1.\n",
        "\n",
        "Both probabilities add up to 1 for each mushroom.\n",
        "\n",
        "If we want to know for each mushroom, with which probability it is considered to be poisonous, we need to look at all the values in the second column."
      ]
    },
    {
      "cell_type": "code",
      "execution_count": null,
      "metadata": {
        "id": "UxUKpvZAsG98",
        "colab": {
          "base_uri": "https://localhost:8080/"
        },
        "outputId": "a30d7aff-89d0-49b4-b6b0-44310bc94236"
      },
      "outputs": [
        {
          "output_type": "execute_result",
          "data": {
            "text/plain": [
              "array([0.        , 1.        , 0.57228434, 0.82154437, 0.64652661,\n",
              "       0.998     , 0.79205862, 0.55791547, 0.91100676, 0.28372519,\n",
              "       0.69007378, 0.95817943, 0.67169039, 0.51830389, 0.002     ,\n",
              "       0.01038699, 0.95303896, 0.93231455, 0.23299817, 0.56311701,\n",
              "       0.00534615, 0.94336611, 0.994     , 0.008     , 0.676     ,\n",
              "       0.00925152, 0.0012    , 0.012     , 0.21447552, 0.0025    ,\n",
              "       0.66194763, 0.004     , 0.00135   , 0.71272538, 0.328     ,\n",
              "       0.02780252, 0.978     , 0.25273456, 0.00479446, 0.91465177,\n",
              "       0.988     , 0.97714832, 0.986     , 0.9865    , 0.94322129,\n",
              "       0.00589091, 0.108     , 0.02646864, 0.01136398, 0.00108108,\n",
              "       0.05948566, 0.01150159, 0.006     , 0.018     , 0.98321156,\n",
              "       0.95026857, 0.038     , 0.992     , 0.71613097, 0.02      ])"
            ]
          },
          "metadata": {},
          "execution_count": 9
        }
      ],
      "source": [
        "probabilities_df.loc[:,1].unique()"
      ]
    },
    {
      "cell_type": "markdown",
      "metadata": {
        "id": "dQDXsNGcsG98"
      },
      "source": [
        "## 6.&nbsp; ROC and threshold selection"
      ]
    },
    {
      "cell_type": "markdown",
      "metadata": {
        "id": "--bMZ3xQsG98"
      },
      "source": [
        "ROC and AUC will help us with choosing the treshold. Please go through the material linked below to learn about these important metrics for binary classification. It will help you understand the rest of the notebook:  \n",
        "* https://www.kaggle.com/getting-started/53782  \n",
        "* https://machinelearningmastery.com/roc-curves-and-precision-recall-curves-for-classification-in-python/\n",
        "* https://www.youtube.com/watch?v=4jRBRDbJemM"
      ]
    },
    {
      "cell_type": "markdown",
      "metadata": {
        "id": "1cJ7tUAhsG98"
      },
      "source": [
        "The `roc_curve()` function computes the effect of applying different thresholds. For each of these models, it returns three values that are stored in arrays:\n",
        "\n",
        "1. An array with the false positive rates (= how many of the true negatives were incorrectly classified as positive).\n",
        "2. An array with the true positive rates (= how many of the true positives were correctly classified as such).\n",
        "3. An array with the threshold that determines the results obtained in the two previous arrays.\n",
        "\n",
        "More on the `roc_curve()` function here: https://scikit-learn.org/stable/modules/generated/sklearn.metrics.roc_curve.html\n",
        "\n",
        "> Note: Since in our dataset, a 1 in the poisonous column corresponds to the mushroom being poisonous, this is our \"positive\" class. The non-poisonous mushrooms, denoted with a 0, form the \"negative\" class. We want all poisonous (= positive) mushrooms to be labelled as such. Therefore, we want the true positive rate to be equal to 1."
      ]
    },
    {
      "cell_type": "code",
      "execution_count": null,
      "metadata": {
        "tags": [],
        "id": "rzMIMaFssG98"
      },
      "outputs": [],
      "source": [
        "# Use the y_train and the probability estimates of the positive (=poisonous) class.\n",
        "# Returns three arrays with false positive rates, false negative rates and the thresholds.\n",
        "\n",
        "fpr, tpr, threshold = roc_curve(y_train, probabilities[:,1])"
      ]
    },
    {
      "cell_type": "markdown",
      "metadata": {
        "id": "nuxflrSIsG98"
      },
      "source": [
        "We can visualize the data in these arrays using a ROC plot."
      ]
    },
    {
      "cell_type": "code",
      "execution_count": null,
      "metadata": {
        "tags": [],
        "colab": {
          "base_uri": "https://localhost:8080/",
          "height": 472
        },
        "id": "JnGXTRZYsG99",
        "outputId": "2726808e-f90d-46a2-ba59-4a4b8cc2b178"
      },
      "outputs": [
        {
          "output_type": "display_data",
          "data": {
            "text/plain": [
              "<Figure size 640x480 with 1 Axes>"
            ],
            "image/png": "[encoded data removed]"
          },
          "metadata": {}
        }
      ],
      "source": [
        "# AUC denotes the area under the ROC curve.\n",
        "auc = roc_auc_score(y_train, probabilities[:,1])\n",
        "\n",
        "plt.plot(fpr, tpr, marker=\".\", label=\"Random forest (AUROC = %0.3f)\" % auc)\n",
        "\n",
        "# Title\n",
        "plt.title(\"ROC Plot\")\n",
        "# Axis labels\n",
        "plt.xlabel(\"False Positive Rate\")\n",
        "plt.ylabel(\"True Positive Rate\")\n",
        "# Show legend\n",
        "plt.legend()\n",
        "# Show plot\n",
        "plt.show()"
      ]
    },
    {
      "cell_type": "markdown",
      "metadata": {
        "id": "2r_vQmaGsG99"
      },
      "source": [
        "We can see on above ROC plot that the true positive rate becomes 1 when the false positive rate is around 0.3. Let's check the value of the threshold when the true positive rate is 1.\n",
        "\n",
        "For that purpose, we will first create a dataframe from the false positive rate, true positive rate and threshold arrays that we got from the roc_curve function."
      ]
    },
    {
      "cell_type": "code",
      "execution_count": null,
      "metadata": {
        "tags": [],
        "colab": {
          "base_uri": "https://localhost:8080/",
          "height": 1000
        },
        "id": "5A_9ZiSjsG99",
        "outputId": "2b2e096d-e88d-4128-a211-5335e798e974"
      },
      "outputs": [
        {
          "output_type": "execute_result",
          "data": {
            "text/plain": [
              "         fpr       tpr  threshold\n",
              "0   0.000000  0.000000   2.000000\n",
              "1   0.000000  0.814138   1.000000\n",
              "2   0.000000  0.819698   0.998000\n",
              "3   0.000000  0.820492   0.992000\n",
              "4   0.000000  0.822081   0.986500\n",
              "5   0.000000  0.823670   0.986000\n",
              "6   0.000000  0.824067   0.983212\n",
              "7   0.000000  0.824861   0.978000\n",
              "8   0.000000  0.825258   0.977148\n",
              "9   0.000746  0.843924   0.958179\n",
              "10  0.000746  0.844718   0.953039\n",
              "11  0.000746  0.846307   0.932315\n",
              "12  0.001119  0.850278   0.914652\n",
              "13  0.002984  0.870135   0.911007\n",
              "14  0.004103  0.875695   0.821544\n",
              "15  0.009325  0.896743   0.792059\n",
              "16  0.009325  0.897141   0.716131\n",
              "17  0.011936  0.903892   0.712725\n",
              "18  0.017531  0.916998   0.690074\n",
              "19  0.017531  0.917395   0.676000\n",
              "20  0.022007  0.926926   0.671690\n",
              "21  0.026110  0.935663   0.661948\n",
              "22  0.030586  0.944400   0.646527\n",
              "23  0.035062  0.950755   0.572284\n",
              "24  0.039164  0.956315   0.563117\n",
              "25  0.045132  0.964257   0.557915\n",
              "26  0.061171  0.982526   0.518304\n",
              "27  0.061544  0.982526   0.328000\n",
              "28  0.082059  0.991263   0.283725\n",
              "29  0.083178  0.991660   0.252735\n",
              "30  0.106304  0.999206   0.232998\n",
              "31  0.108915  1.000000   0.214476\n",
              "32  0.110407  1.000000   0.059486\n",
              "33  0.110780  1.000000   0.038000\n",
              "34  0.113018  1.000000   0.026469\n",
              "35  0.113391  1.000000   0.020000\n",
              "36  0.114510  1.000000   0.018000\n",
              "37  0.115256  1.000000   0.012000\n",
              "38  0.116374  1.000000   0.011502\n",
              "39  0.117866  1.000000   0.011364\n",
              "40  0.119358  1.000000   0.009252\n",
              "41  0.121223  1.000000   0.008000\n",
              "42  0.121969  1.000000   0.006000\n",
              "43  0.123088  1.000000   0.005891\n",
              "44  0.123834  1.000000   0.005346\n",
              "45  0.127564  1.000000   0.004000\n",
              "46  0.129056  1.000000   0.002500\n",
              "47  0.133532  1.000000   0.002000\n",
              "48  0.134651  1.000000   0.001350\n",
              "49  0.136889  1.000000   0.001200\n",
              "50  0.137635  1.000000   0.001081\n",
              "51  1.000000  1.000000   0.000000"
            ],
            "text/html": [
              "\n",
              "  <div id=\"df-9886198f-ed0c-4af2-a764-38ceb14c679d\">\n",
              "    <div class=\"colab-df-container\">\n",
              "      <div>\n",
              "<style scoped>\n",
              "    .dataframe tbody tr th:only-of-type {\n",
              "        vertical-align: middle;\n",
              "    }\n",
              "\n",
              "    .dataframe tbody tr th {\n",
              "        vertical-align: top;\n",
              "    }\n",
              "\n",
              "    .dataframe thead th {\n",
              "        text-align: right;\n",
              "    }\n",
              "</style>\n",
              "<table border=\"1\" class=\"dataframe\">\n",
              "  <thead>\n",
              "    <tr style=\"text-align: right;\">\n",
              "      <th></th>\n",
              "      <th>fpr</th>\n",
              "      <th>tpr</th>\n",
              "      <th>threshold</th>\n",
              "    </tr>\n",
              "  </thead>\n",
              "  <tbody>\n",
              "    <tr>\n",
              "      <th>0</th>\n",
              "      <td>0.000000</td>\n",
              "      <td>0.000000</td>\n",
              "      <td>2.000000</td>\n",
              "    </tr>\n",
              "    <tr>\n",
              "      <th>1</th>\n",
              "      <td>0.000000</td>\n",
              "      <td>0.814138</td>\n",
              "      <td>1.000000</td>\n",
              "    </tr>\n",
              "    <tr>\n",
              "      <th>2</th>\n",
              "      <td>0.000000</td>\n",
              "      <td>0.819698</td>\n",
              "      <td>0.998000</td>\n",
              "    </tr>\n",
              "    <tr>\n",
              "      <th>3</th>\n",
              "      <td>0.000000</td>\n",
              "      <td>0.820492</td>\n",
              "      <td>0.992000</td>\n",
              "    </tr>\n",
              "    <tr>\n",
              "      <th>4</th>\n",
              "      <td>0.000000</td>\n",
              "      <td>0.822081</td>\n",
              "      <td>0.986500</td>\n",
              "    </tr>\n",
              "    <tr>\n",
              "      <th>5</th>\n",
              "      <td>0.000000</td>\n",
              "      <td>0.823670</td>\n",
              "      <td>0.986000</td>\n",
              "    </tr>\n",
              "    <tr>\n",
              "      <th>6</th>\n",
              "      <td>0.000000</td>\n",
              "      <td>0.824067</td>\n",
              "      <td>0.983212</td>\n",
              "    </tr>\n",
              "    <tr>\n",
              "      <th>7</th>\n",
              "      <td>0.000000</td>\n",
              "      <td>0.824861</td>\n",
              "      <td>0.978000</td>\n",
              "    </tr>\n",
              "    <tr>\n",
              "      <th>8</th>\n",
              "      <td>0.000000</td>\n",
              "      <td>0.825258</td>\n",
              "      <td>0.977148</td>\n",
              "    </tr>\n",
              "    <tr>\n",
              "      <th>9</th>\n",
              "      <td>0.000746</td>\n",
              "      <td>0.843924</td>\n",
              "      <td>0.958179</td>\n",
              "    </tr>\n",
              "    <tr>\n",
              "      <th>10</th>\n",
              "      <td>0.000746</td>\n",
              "      <td>0.844718</td>\n",
              "      <td>0.953039</td>\n",
              "    </tr>\n",
              "    <tr>\n",
              "      <th>11</th>\n",
              "      <td>0.000746</td>\n",
              "      <td>0.846307</td>\n",
              "      <td>0.932315</td>\n",
              "    </tr>\n",
              "    <tr>\n",
              "      <th>12</th>\n",
              "      <td>0.001119</td>\n",
              "      <td>0.850278</td>\n",
              "      <td>0.914652</td>\n",
              "    </tr>\n",
              "    <tr>\n",
              "      <th>13</th>\n",
              "      <td>0.002984</td>\n",
              "      <td>0.870135</td>\n",
              "      <td>0.911007</td>\n",
              "    </tr>\n",
              "    <tr>\n",
              "      <th>14</th>\n",
              "      <td>0.004103</td>\n",
              "      <td>0.875695</td>\n",
              "      <td>0.821544</td>\n",
              "    </tr>\n",
              "    <tr>\n",
              "      <th>15</th>\n",
              "      <td>0.009325</td>\n",
              "      <td>0.896743</td>\n",
              "      <td>0.792059</td>\n",
              "    </tr>\n",
              "    <tr>\n",
              "      <th>16</th>\n",
              "      <td>0.009325</td>\n",
              "      <td>0.897141</td>\n",
              "      <td>0.716131</td>\n",
              "    </tr>\n",
              "    <tr>\n",
              "      <th>17</th>\n",
              "      <td>0.011936</td>\n",
              "      <td>0.903892</td>\n",
              "      <td>0.712725</td>\n",
              "    </tr>\n",
              "    <tr>\n",
              "      <th>18</th>\n",
              "      <td>0.017531</td>\n",
              "      <td>0.916998</td>\n",
              "      <td>0.690074</td>\n",
              "    </tr>\n",
              "    <tr>\n",
              "      <th>19</th>\n",
              "      <td>0.017531</td>\n",
              "      <td>0.917395</td>\n",
              "      <td>0.676000</td>\n",
              "    </tr>\n",
              "    <tr>\n",
              "      <th>20</th>\n",
              "      <td>0.022007</td>\n",
              "      <td>0.926926</td>\n",
              "      <td>0.671690</td>\n",
              "    </tr>\n",
              "    <tr>\n",
              "      <th>21</th>\n",
              "      <td>0.026110</td>\n",
              "      <td>0.935663</td>\n",
              "      <td>0.661948</td>\n",
              "    </tr>\n",
              "    <tr>\n",
              "      <th>22</th>\n",
              "      <td>0.030586</td>\n",
              "      <td>0.944400</td>\n",
              "      <td>0.646527</td>\n",
              "    </tr>\n",
              "    <tr>\n",
              "      <th>23</th>\n",
              "      <td>0.035062</td>\n",
              "      <td>0.950755</td>\n",
              "      <td>0.572284</td>\n",
              "    </tr>\n",
              "    <tr>\n",
              "      <th>24</th>\n",
              "      <td>0.039164</td>\n",
              "      <td>0.956315</td>\n",
              "      <td>0.563117</td>\n",
              "    </tr>\n",
              "    <tr>\n",
              "      <th>25</th>\n",
              "      <td>0.045132</td>\n",
              "      <td>0.964257</td>\n",
              "      <td>0.557915</td>\n",
              "    </tr>\n",
              "    <tr>\n",
              "      <th>26</th>\n",
              "      <td>0.061171</td>\n",
              "      <td>0.982526</td>\n",
              "      <td>0.518304</td>\n",
              "    </tr>\n",
              "    <tr>\n",
              "      <th>27</th>\n",
              "      <td>0.061544</td>\n",
              "      <td>0.982526</td>\n",
              "      <td>0.328000</td>\n",
              "    </tr>\n",
              "    <tr>\n",
              "      <th>28</th>\n",
              "      <td>0.082059</td>\n",
              "      <td>0.991263</td>\n",
              "      <td>0.283725</td>\n",
              "    </tr>\n",
              "    <tr>\n",
              "      <th>29</th>\n",
              "      <td>0.083178</td>\n",
              "      <td>0.991660</td>\n",
              "      <td>0.252735</td>\n",
              "    </tr>\n",
              "    <tr>\n",
              "      <th>30</th>\n",
              "      <td>0.106304</td>\n",
              "      <td>0.999206</td>\n",
              "      <td>0.232998</td>\n",
              "    </tr>\n",
              "    <tr>\n",
              "      <th>31</th>\n",
              "      <td>0.108915</td>\n",
              "      <td>1.000000</td>\n",
              "      <td>0.214476</td>\n",
              "    </tr>\n",
              "    <tr>\n",
              "      <th>32</th>\n",
              "      <td>0.110407</td>\n",
              "      <td>1.000000</td>\n",
              "      <td>0.059486</td>\n",
              "    </tr>\n",
              "    <tr>\n",
              "      <th>33</th>\n",
              "      <td>0.110780</td>\n",
              "      <td>1.000000</td>\n",
              "      <td>0.038000</td>\n",
              "    </tr>\n",
              "    <tr>\n",
              "      <th>34</th>\n",
              "      <td>0.113018</td>\n",
              "      <td>1.000000</td>\n",
              "      <td>0.026469</td>\n",
              "    </tr>\n",
              "    <tr>\n",
              "      <th>35</th>\n",
              "      <td>0.113391</td>\n",
              "      <td>1.000000</td>\n",
              "      <td>0.020000</td>\n",
              "    </tr>\n",
              "    <tr>\n",
              "      <th>36</th>\n",
              "      <td>0.114510</td>\n",
              "      <td>1.000000</td>\n",
              "      <td>0.018000</td>\n",
              "    </tr>\n",
              "    <tr>\n",
              "      <th>37</th>\n",
              "      <td>0.115256</td>\n",
              "      <td>1.000000</td>\n",
              "      <td>0.012000</td>\n",
              "    </tr>\n",
              "    <tr>\n",
              "      <th>38</th>\n",
              "      <td>0.116374</td>\n",
              "      <td>1.000000</td>\n",
              "      <td>0.011502</td>\n",
              "    </tr>\n",
              "    <tr>\n",
              "      <th>39</th>\n",
              "      <td>0.117866</td>\n",
              "      <td>1.000000</td>\n",
              "      <td>0.011364</td>\n",
              "    </tr>\n",
              "    <tr>\n",
              "      <th>40</th>\n",
              "      <td>0.119358</td>\n",
              "      <td>1.000000</td>\n",
              "      <td>0.009252</td>\n",
              "    </tr>\n",
              "    <tr>\n",
              "      <th>41</th>\n",
              "      <td>0.121223</td>\n",
              "      <td>1.000000</td>\n",
              "      <td>0.008000</td>\n",
              "    </tr>\n",
              "    <tr>\n",
              "      <th>42</th>\n",
              "      <td>0.121969</td>\n",
              "      <td>1.000000</td>\n",
              "      <td>0.006000</td>\n",
              "    </tr>\n",
              "    <tr>\n",
              "      <th>43</th>\n",
              "      <td>0.123088</td>\n",
              "      <td>1.000000</td>\n",
              "      <td>0.005891</td>\n",
              "    </tr>\n",
              "    <tr>\n",
              "      <th>44</th>\n",
              "      <td>0.123834</td>\n",
              "      <td>1.000000</td>\n",
              "      <td>0.005346</td>\n",
              "    </tr>\n",
              "    <tr>\n",
              "      <th>45</th>\n",
              "      <td>0.127564</td>\n",
              "      <td>1.000000</td>\n",
              "      <td>0.004000</td>\n",
              "    </tr>\n",
              "    <tr>\n",
              "      <th>46</th>\n",
              "      <td>0.129056</td>\n",
              "      <td>1.000000</td>\n",
              "      <td>0.002500</td>\n",
              "    </tr>\n",
              "    <tr>\n",
              "      <th>47</th>\n",
              "      <td>0.133532</td>\n",
              "      <td>1.000000</td>\n",
              "      <td>0.002000</td>\n",
              "    </tr>\n",
              "    <tr>\n",
              "      <th>48</th>\n",
              "      <td>0.134651</td>\n",
              "      <td>1.000000</td>\n",
              "      <td>0.001350</td>\n",
              "    </tr>\n",
              "    <tr>\n",
              "      <th>49</th>\n",
              "      <td>0.136889</td>\n",
              "      <td>1.000000</td>\n",
              "      <td>0.001200</td>\n",
              "    </tr>\n",
              "    <tr>\n",
              "      <th>50</th>\n",
              "      <td>0.137635</td>\n",
              "      <td>1.000000</td>\n",
              "      <td>0.001081</td>\n",
              "    </tr>\n",
              "    <tr>\n",
              "      <th>51</th>\n",
              "      <td>1.000000</td>\n",
              "      <td>1.000000</td>\n",
              "      <td>0.000000</td>\n",
              "    </tr>\n",
              "  </tbody>\n",
              "</table>\n",
              "</div>\n",
              "      <button class=\"colab-df-convert\" onclick=\"convertToInteractive('df-9886198f-ed0c-4af2-a764-38ceb14c679d')\"\n",
              "              title=\"Convert this dataframe to an interactive table.\"\n",
              "              style=\"display:none;\">\n",
              "        \n",
              "  <svg xmlns=\"http://www.w3.org/2000/svg\" height=\"24px\"viewBox=\"0 0 24 24\"\n",
              "       width=\"24px\">\n",
              "    <path d=\"M0 0h24v24H0V0z\" fill=\"none\"/>\n",
              "    <path d=\"M18.56 5.44l.94 2.06.94-2.06 2.06-.94-2.06-.94-.94-2.06-.94 2.06-2.06.94zm-11 1L8.5 8.5l.94-2.06 2.06-.94-2.06-.94L8.5 2.5l-.94 2.06-2.06.94zm10 10l.94 2.06.94-2.06 2.06-.94-2.06-.94-.94-2.06-.94 2.06-2.06.94z\"/><path d=\"M17.41 7.96l-1.37-1.37c-.4-.4-.92-.59-1.43-.59-.52 0-1.04.2-1.43.59L10.3 9.45l-7.72 7.72c-.78.78-.78 2.05 0 2.83L4 21.41c.39.39.9.59 1.41.59.51 0 1.02-.2 1.41-.59l7.78-7.78 2.81-2.81c.8-.78.8-2.07 0-2.86zM5.41 20L4 18.59l7.72-7.72 1.47 1.35L5.41 20z\"/>\n",
              "  </svg>\n",
              "      </button>\n",
              "      \n",
              "  <style>\n",
              "    .colab-df-container {\n",
              "      display:flex;\n",
              "      flex-wrap:wrap;\n",
              "      gap: 12px;\n",
              "    }\n",
              "\n",
              "    .colab-df-convert {\n",
              "      background-color: #E8F0FE;\n",
              "      border: none;\n",
              "      border-radius: 50%;\n",
              "      cursor: pointer;\n",
              "      display: none;\n",
              "      fill: #1967D2;\n",
              "      height: 32px;\n",
              "      padding: 0 0 0 0;\n",
              "      width: 32px;\n",
              "    }\n",
              "\n",
              "    .colab-df-convert:hover {\n",
              "      background-color: #E2EBFA;\n",
              "      box-shadow: 0px 1px 2px rgba(60, 64, 67, 0.3), 0px 1px 3px 1px rgba(60, 64, 67, 0.15);\n",
              "      fill: #174EA6;\n",
              "    }\n",
              "\n",
              "    [theme=dark] .colab-df-convert {\n",
              "      background-color: #3B4455;\n",
              "      fill: #D2E3FC;\n",
              "    }\n",
              "\n",
              "    [theme=dark] .colab-df-convert:hover {\n",
              "      background-color: #434B5C;\n",
              "      box-shadow: 0px 1px 3px 1px rgba(0, 0, 0, 0.15);\n",
              "      filter: drop-shadow(0px 1px 2px rgba(0, 0, 0, 0.3));\n",
              "      fill: #FFFFFF;\n",
              "    }\n",
              "  </style>\n",
              "\n",
              "      <script>\n",
              "        const buttonEl =\n",
              "          document.querySelector('#df-9886198f-ed0c-4af2-a764-38ceb14c679d button.colab-df-convert');\n",
              "        buttonEl.style.display =\n",
              "          google.colab.kernel.accessAllowed ? 'block' : 'none';\n",
              "\n",
              "        async function convertToInteractive(key) {\n",
              "          const element = document.querySelector('#df-9886198f-ed0c-4af2-a764-38ceb14c679d');\n",
              "          const dataTable =\n",
              "            await google.colab.kernel.invokeFunction('convertToInteractive',\n",
              "                                                     [key], {});\n",
              "          if (!dataTable) return;\n",
              "\n",
              "          const docLinkHtml = 'Like what you see? Visit the ' +\n",
              "            '<a target=\"_blank\" href=https://colab.research.google.com/notebooks/data_table.ipynb>data table notebook</a>'\n",
              "            + ' to learn more about interactive tables.';\n",
              "          element.innerHTML = '';\n",
              "          dataTable['output_type'] = 'display_data';\n",
              "          await google.colab.output.renderOutput(dataTable, element);\n",
              "          const docLink = document.createElement('div');\n",
              "          docLink.innerHTML = docLinkHtml;\n",
              "          element.appendChild(docLink);\n",
              "        }\n",
              "      </script>\n",
              "    </div>\n",
              "  </div>\n",
              "  "
            ]
          },
          "metadata": {},
          "execution_count": 12
        }
      ],
      "source": [
        "roc_df = pd.DataFrame({\"fpr\":fpr,\"tpr\":tpr,\"threshold\":threshold})\n",
        "roc_df"
      ]
    },
    {
      "cell_type": "markdown",
      "metadata": {
        "id": "MQZgOR8XsG99"
      },
      "source": [
        "Lets take one row of the DataFrame above to explain the values."
      ]
    },
    {
      "cell_type": "code",
      "execution_count": null,
      "metadata": {
        "colab": {
          "base_uri": "https://localhost:8080/"
        },
        "id": "UlJogi5esG99",
        "outputId": "9bee8b09-f647-497e-f2c4-59f765f7350f"
      },
      "outputs": [
        {
          "output_type": "execute_result",
          "data": {
            "text/plain": [
              "fpr          0.009325\n",
              "tpr          0.897141\n",
              "threshold    0.716131\n",
              "Name: 16, dtype: float64"
            ]
          },
          "metadata": {},
          "execution_count": 13
        }
      ],
      "source": [
        "roc_df.loc[16]"
      ]
    },
    {
      "cell_type": "markdown",
      "metadata": {
        "id": "G2n4f4nzsG99"
      },
      "source": [
        "This row means that if we set the threshold to `0.716`, the false positive rate will be almost `0.009` and the true positive rate will be `0.897`.\n",
        "\n",
        "It means that for that threshold, 0,9% of all non-poisonous mushrooms will be (incorrectly) labelled as poisonous, and 89.7% of all poisonous mushrooms will be correctly labelled as such."
      ]
    },
    {
      "cell_type": "markdown",
      "metadata": {
        "id": "rhTtIpalsG99"
      },
      "source": [
        "Since our task is to **not** predict poisonous as non-poisonous, we should have 0 false negatives, and our true positive rate has to be equal to 1 (100% of poisonous get labelled as poisonous).\n",
        "\n",
        "Visually examining the above DataFrame, we can see that the true positive rate increases from 0 to 1 and finally reaches 1 in row 31. In that same row, the threshold value is `0.21`, and that is the one we will choose to filter our results."
      ]
    },
    {
      "cell_type": "code",
      "execution_count": null,
      "metadata": {
        "tags": [],
        "colab": {
          "base_uri": "https://localhost:8080/"
        },
        "id": "fPtA7gxZsG99",
        "outputId": "060cf648-2733-42ef-c1ae-b79ace6fc68c"
      },
      "outputs": [
        {
          "output_type": "execute_result",
          "data": {
            "text/plain": [
              "0.21447551951316687"
            ]
          },
          "metadata": {},
          "execution_count": 14
        }
      ],
      "source": [
        "optimum_threshold_value = roc_df.threshold[31]\n",
        "optimum_threshold_value"
      ]
    },
    {
      "cell_type": "markdown",
      "source": [
        "We encourage you to scan the results shown above, but here's a slightly more automated way to find the best threshold:"
      ],
      "metadata": {
        "id": "p0Ozl9ZifVtq"
      }
    },
    {
      "cell_type": "code",
      "source": [
        "roc_df[roc_df[\"tpr\"] == 1].nlargest(1, \"threshold\")"
      ],
      "metadata": {
        "colab": {
          "base_uri": "https://localhost:8080/",
          "height": 81
        },
        "id": "plohQ_xTixUx",
        "outputId": "6fa5dc0c-0917-457a-fbc3-de25ce9b4da8"
      },
      "execution_count": null,
      "outputs": [
        {
          "output_type": "execute_result",
          "data": {
            "text/plain": [
              "         fpr  tpr  threshold\n",
              "31  0.108915  1.0   0.214476"
            ],
            "text/html": [
              "\n",
              "  <div id=\"df-7efe9eb8-0db3-4d23-9361-b14ecf4e2660\">\n",
              "    <div class=\"colab-df-container\">\n",
              "      <div>\n",
              "<style scoped>\n",
              "    .dataframe tbody tr th:only-of-type {\n",
              "        vertical-align: middle;\n",
              "    }\n",
              "\n",
              "    .dataframe tbody tr th {\n",
              "        vertical-align: top;\n",
              "    }\n",
              "\n",
              "    .dataframe thead th {\n",
              "        text-align: right;\n",
              "    }\n",
              "</style>\n",
              "<table border=\"1\" class=\"dataframe\">\n",
              "  <thead>\n",
              "    <tr style=\"text-align: right;\">\n",
              "      <th></th>\n",
              "      <th>fpr</th>\n",
              "      <th>tpr</th>\n",
              "      <th>threshold</th>\n",
              "    </tr>\n",
              "  </thead>\n",
              "  <tbody>\n",
              "    <tr>\n",
              "      <th>31</th>\n",
              "      <td>0.108915</td>\n",
              "      <td>1.0</td>\n",
              "      <td>0.214476</td>\n",
              "    </tr>\n",
              "  </tbody>\n",
              "</table>\n",
              "</div>\n",
              "      <button class=\"colab-df-convert\" onclick=\"convertToInteractive('df-7efe9eb8-0db3-4d23-9361-b14ecf4e2660')\"\n",
              "              title=\"Convert this dataframe to an interactive table.\"\n",
              "              style=\"display:none;\">\n",
              "        \n",
              "  <svg xmlns=\"http://www.w3.org/2000/svg\" height=\"24px\"viewBox=\"0 0 24 24\"\n",
              "       width=\"24px\">\n",
              "    <path d=\"M0 0h24v24H0V0z\" fill=\"none\"/>\n",
              "    <path d=\"M18.56 5.44l.94 2.06.94-2.06 2.06-.94-2.06-.94-.94-2.06-.94 2.06-2.06.94zm-11 1L8.5 8.5l.94-2.06 2.06-.94-2.06-.94L8.5 2.5l-.94 2.06-2.06.94zm10 10l.94 2.06.94-2.06 2.06-.94-2.06-.94-.94-2.06-.94 2.06-2.06.94z\"/><path d=\"M17.41 7.96l-1.37-1.37c-.4-.4-.92-.59-1.43-.59-.52 0-1.04.2-1.43.59L10.3 9.45l-7.72 7.72c-.78.78-.78 2.05 0 2.83L4 21.41c.39.39.9.59 1.41.59.51 0 1.02-.2 1.41-.59l7.78-7.78 2.81-2.81c.8-.78.8-2.07 0-2.86zM5.41 20L4 18.59l7.72-7.72 1.47 1.35L5.41 20z\"/>\n",
              "  </svg>\n",
              "      </button>\n",
              "      \n",
              "  <style>\n",
              "    .colab-df-container {\n",
              "      display:flex;\n",
              "      flex-wrap:wrap;\n",
              "      gap: 12px;\n",
              "    }\n",
              "\n",
              "    .colab-df-convert {\n",
              "      background-color: #E8F0FE;\n",
              "      border: none;\n",
              "      border-radius: 50%;\n",
              "      cursor: pointer;\n",
              "      display: none;\n",
              "      fill: #1967D2;\n",
              "      height: 32px;\n",
              "      padding: 0 0 0 0;\n",
              "      width: 32px;\n",
              "    }\n",
              "\n",
              "    .colab-df-convert:hover {\n",
              "      background-color: #E2EBFA;\n",
              "      box-shadow: 0px 1px 2px rgba(60, 64, 67, 0.3), 0px 1px 3px 1px rgba(60, 64, 67, 0.15);\n",
              "      fill: #174EA6;\n",
              "    }\n",
              "\n",
              "    [theme=dark] .colab-df-convert {\n",
              "      background-color: #3B4455;\n",
              "      fill: #D2E3FC;\n",
              "    }\n",
              "\n",
              "    [theme=dark] .colab-df-convert:hover {\n",
              "      background-color: #434B5C;\n",
              "      box-shadow: 0px 1px 3px 1px rgba(0, 0, 0, 0.15);\n",
              "      filter: drop-shadow(0px 1px 2px rgba(0, 0, 0, 0.3));\n",
              "      fill: #FFFFFF;\n",
              "    }\n",
              "  </style>\n",
              "\n",
              "      <script>\n",
              "        const buttonEl =\n",
              "          document.querySelector('#df-7efe9eb8-0db3-4d23-9361-b14ecf4e2660 button.colab-df-convert');\n",
              "        buttonEl.style.display =\n",
              "          google.colab.kernel.accessAllowed ? 'block' : 'none';\n",
              "\n",
              "        async function convertToInteractive(key) {\n",
              "          const element = document.querySelector('#df-7efe9eb8-0db3-4d23-9361-b14ecf4e2660');\n",
              "          const dataTable =\n",
              "            await google.colab.kernel.invokeFunction('convertToInteractive',\n",
              "                                                     [key], {});\n",
              "          if (!dataTable) return;\n",
              "\n",
              "          const docLinkHtml = 'Like what you see? Visit the ' +\n",
              "            '<a target=\"_blank\" href=https://colab.research.google.com/notebooks/data_table.ipynb>data table notebook</a>'\n",
              "            + ' to learn more about interactive tables.';\n",
              "          element.innerHTML = '';\n",
              "          dataTable['output_type'] = 'display_data';\n",
              "          await google.colab.output.renderOutput(dataTable, element);\n",
              "          const docLink = document.createElement('div');\n",
              "          docLink.innerHTML = docLinkHtml;\n",
              "          element.appendChild(docLink);\n",
              "        }\n",
              "      </script>\n",
              "    </div>\n",
              "  </div>\n",
              "  "
            ]
          },
          "metadata": {},
          "execution_count": 15
        }
      ]
    },
    {
      "cell_type": "markdown",
      "metadata": {
        "id": "nJkdKG9EsG9-"
      },
      "source": [
        "## 7.&nbsp; Adjust predictions based on the threshold value"
      ]
    },
    {
      "cell_type": "markdown",
      "metadata": {
        "id": "6o8YRsmFsG9-"
      },
      "source": [
        "The following code generates the predicted values based on the probability \n",
        "of a sample being a class 1 (of a mushroom to be poisonous) that `predicted_proba()` returned.\n",
        "\n",
        "If a mushroom's probability is higher than the threshold, its prediction will be 1 (poisonous). The prediction will only be 0 (non-poisonous) if the probability is lower than the threshold."
      ]
    },
    {
      "cell_type": "code",
      "source": [
        "# Select only the column with the poisonous probabilities.\n",
        "# Compare each probability with the threshold value. This returns Boolean values.\n",
        "# Transform the Boolean values into integers (i.e. 0 and 1).\n",
        "new_predictions = (probabilities_df.loc[:,1] >= optimum_threshold_value).astype(\"int\")"
      ],
      "metadata": {
        "id": "o42cQpazGNdc"
      },
      "execution_count": null,
      "outputs": []
    },
    {
      "cell_type": "code",
      "execution_count": null,
      "metadata": {
        "colab": {
          "base_uri": "https://localhost:8080/"
        },
        "id": "DX0KRn_IsG9-",
        "outputId": "1d290894-a58d-4288-ae82-7827feeac228"
      },
      "outputs": [
        {
          "output_type": "stream",
          "name": "stdout",
          "text": [
            "Probability: 0.28372519436406807\n",
            "New Value: 1\n"
          ]
        }
      ],
      "source": [
        "# Print the values in rows 4-8 from both the probabilities and the prediction.\n",
        "# Check how the probabilities are set based on the predicted_proba values:\n",
        "print(f\"Probability: {probabilities_df.loc[40, 1]}\")\n",
        "print(f\"New Value: {new_predictions.loc[40]}\")"
      ]
    },
    {
      "cell_type": "markdown",
      "metadata": {
        "id": "t0Uj5VxesG9-"
      },
      "source": [
        "Let's plot another confusion matrix, this time using the results from the adjusted threshold and seaborn."
      ]
    },
    {
      "cell_type": "code",
      "source": [
        "from sklearn.metrics import confusion_matrix"
      ],
      "metadata": {
        "id": "JP010_SJIvhT"
      },
      "execution_count": null,
      "outputs": []
    },
    {
      "cell_type": "code",
      "execution_count": null,
      "metadata": {
        "id": "PoFx6mO3sG9-"
      },
      "outputs": [],
      "source": [
        "# Generate the confusion matrix, this time using the predictions and y_train.\n",
        "cf_matrix = confusion_matrix(y_train, new_predictions)"
      ]
    },
    {
      "cell_type": "code",
      "execution_count": null,
      "metadata": {
        "tags": [],
        "colab": {
          "base_uri": "https://localhost:8080/",
          "height": 509
        },
        "id": "D_buqVR3sG9-",
        "outputId": "4a8e0f46-85ed-4679-ff70-1a7d79e14024"
      },
      "outputs": [
        {
          "output_type": "display_data",
          "data": {
            "text/plain": [
              "<Figure size 640x480 with 2 Axes>"
            ],
            "image/png": "[encoded data removed]"
          },
          "metadata": {}
        }
      ],
      "source": [
        "ax = sns.heatmap(cf_matrix, annot=True, cmap=\"Blues\", fmt=\"g\")\n",
        "\n",
        "ax.set_title(\"Confusion Matrix for mushrooms\\n\");\n",
        "ax.set_xlabel(\"\\nPredicted Values\")\n",
        "ax.set_ylabel(\"Actual Values\\n\");\n",
        "\n",
        "## Ticket labels - List must be in alphabetical order\n",
        "ax.xaxis.set_ticklabels([\"Not poisonous\",\"Poisonous\"])\n",
        "ax.yaxis.set_ticklabels([\"Not poisonous\",\"Poisonous\"])\n",
        "\n",
        "## Display the visualization of the Confusion Matrix.\n",
        "plt.show()"
      ]
    },
    {
      "cell_type": "markdown",
      "source": [
        "SUCCESS! Using the adjusted threshold, none of the poisonous mushrooms got a false prediction."
      ],
      "metadata": {
        "id": "FwjVJ0RMJY7M"
      }
    },
    {
      "cell_type": "markdown",
      "source": [
        "## 8.&nbsp; Check performance with test dataset"
      ],
      "metadata": {
        "id": "ho7hD4vv2S1_"
      }
    },
    {
      "cell_type": "markdown",
      "source": [
        "As usual, we want to check our model's performance using the test dataset."
      ],
      "metadata": {
        "id": "DogIF9V5JrO8"
      }
    },
    {
      "cell_type": "code",
      "source": [
        "# Use the pipeline to determine the probabilities.\n",
        "probabilities_test_set = fitted_pipe.predict_proba(X_test)\n",
        "\n",
        "# Use the probabilities and the threshold to make the predictions.\n",
        "predicted_test = (probabilities_test_set[:,1] >= optimum_threshold_value).astype(\"int\")"
      ],
      "metadata": {
        "id": "2msCDOoy2QvF",
        "colab": {
          "base_uri": "https://localhost:8080/"
        },
        "outputId": "3cc3efee-873d-408e-80c1-821cf76204a4"
      },
      "execution_count": null,
      "outputs": [
        {
          "output_type": "stream",
          "name": "stderr",
          "text": [
            "/usr/local/lib/python3.9/dist-packages/sklearn/preprocessing/_encoders.py:202: UserWarning: Found unknown categories in columns [0] during transform. These unknown categories will be encoded as all zeros\n",
            "  warnings.warn(\n"
          ]
        }
      ]
    },
    {
      "cell_type": "code",
      "source": [
        "# Create the confusion matrix using the predictions from the test dataset and y_test.\n",
        "matrix_test = confusion_matrix(y_test, predicted_test)"
      ],
      "metadata": {
        "id": "HsX8-ObB2SM9"
      },
      "execution_count": null,
      "outputs": []
    },
    {
      "cell_type": "code",
      "source": [
        "ax = sns.heatmap(matrix_test, annot=True, cmap=\"Blues\", fmt=\"g\")\n",
        "\n",
        "ax.set_title(\"Confusion Matrix for mushrooms\\n\");\n",
        "ax.set_xlabel(\"\\nPredicted Values\")\n",
        "ax.set_ylabel(\"Actual Values\\n\");\n",
        "\n",
        "## Ticket labels - List must be in alphabetical order\n",
        "ax.xaxis.set_ticklabels([\"Not poisonous\",\"Poisonous\"])\n",
        "ax.yaxis.set_ticklabels([\"Not poisonous\",\"Poisonous\"])\n",
        "\n",
        "## Display the visualization of the Confusion Matrix.\n",
        "plt.show()"
      ],
      "metadata": {
        "colab": {
          "base_uri": "https://localhost:8080/",
          "height": 509
        },
        "id": "6Umyllip2pTn",
        "outputId": "3be218b9-259f-48a8-e1ad-cb115a5e4004"
      },
      "execution_count": null,
      "outputs": [
        {
          "output_type": "display_data",
          "data": {
            "text/plain": [
              "<Figure size 640x480 with 2 Axes>"
            ],
            "image/png": "[encoded data removed]"
          },
          "metadata": {}
        }
      ]
    },
    {
      "cell_type": "markdown",
      "source": [
        "SUCCESS! The threshold has also filtered out all the poisonous mushrooms from the test dataset!"
      ],
      "metadata": {
        "id": "T5WX4btQ23vR"
      }
    }
  ],
  "metadata": {
    "kernelspec": {
      "display_name": "Python 3 (ipykernel)",
      "language": "python",
      "name": "python3"
    },
    "language_info": {
      "codemirror_mode": {
        "name": "ipython",
        "version": 3
      },
      "file_extension": ".py",
      "mimetype": "text/x-python",
      "name": "python",
      "nbconvert_exporter": "python",
      "pygments_lexer": "ipython3",
      "version": "3.9.7"
    },
    "colab": {
      "provenance": [],
      "include_colab_link": true
    }
  },
  "nbformat": 4,
  "nbformat_minor": 0
}